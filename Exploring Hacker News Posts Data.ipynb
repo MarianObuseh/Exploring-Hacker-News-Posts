{
 "cells": [
  {
   "cell_type": "markdown",
   "metadata": {},
   "source": [
    "\n",
    "<h1 id=\"Exploring-Hacker-News-Data\">Exploring Hacker News Data<a class=\"anchor-link\" href=\"#Exploring-Hacker-News-Data\">¶</a></h1><p>In this project, I compare two different types of posts made on <a href=\"https://news.ycombinator.com/\">Hacker News</a>, a site extremely popular in technology and startup circles. Posts that make it to the top of Hacker News' listings can get hundreds of thousands of visitors as a result. I am specifically interested in posts whose titles begin with either <code>Ask HN</code> or <code>Show HN</code>. Users submit <code>Ask HN</code> posts to ask the Hacker News community a specific question and submit <code>Show HN</code> posts to show the Hacker News community a project, product, or just generally something interesting.</p>\n",
    "<p>I'll compare these two types of posts to determine the following:</p>\n",
    "<ol>\n",
    "<li>Do <code>Ask HN</code> or <code>Show HN</code> receive more comments on average?</li>\n",
    "<li>Do posts created at a certain time receive more comments on average?</li>\n",
    "</ol>\n",
    "<p>It should be noted that the data set I'm working with was reduced from almost 300,000 rows to approximately 20,000 rows by removing all submissions that did not receive any comments, and then randomly sampling from the remaining submissions. <a href=\"https://www.kaggle.com/hacker-news/hacker-news-posts/data#\">Here</a> is the link to the full untouched dataset.</p>\n"
   ]
  },
  {
   "cell_type": "markdown",
   "metadata": {},
   "source": [
    "\n",
    "<h2 id=\"Introduction\">Introduction<a class=\"anchor-link\" href=\"#Introduction\">¶</a></h2><p>First, I read the data and separate its header.</p>\n"
   ]
  },
  {
   "cell_type": "code",
   "execution_count": 3,
   "metadata": {},
   "outputs": [
    {
     "name": "stdout",
     "output_type": "stream",
     "text": [
      "[['12224879', 'Interactive Dynamic Video', 'http://www.interactivedynamicvideo.com/', '386', '52', 'ne0phyte', '8/4/2016 11:52'], ['10975351', 'How to Use Open Source and Shut the Fuck Up at the Same Time', 'http://hueniverse.com/2016/01/26/how-to-use-open-source-and-shut-the-fuck-up-at-the-same-time/', '39', '10', 'josep2', '1/26/2016 19:30'], ['11964716', \"Florida DJs May Face Felony for April Fools' Water Joke\", 'http://www.thewire.com/entertainment/2013/04/florida-djs-april-fools-water-joke/63798/', '2', '1', 'vezycash', '6/23/2016 22:20'], ['11919867', 'Technology ventures: From Idea to Enterprise', 'https://www.amazon.com/Technology-Ventures-Enterprise-Thomas-Byers/dp/0073523429', '3', '1', 'hswarna', '6/17/2016 0:01'], ['10301696', 'Note by Note: The Making of Steinway L1037 (2007)', 'http://www.nytimes.com/2007/11/07/movies/07stein.html?_r=0', '8', '2', 'walterbell', '9/30/2015 4:12']]\n",
      "\n",
      "\n",
      "['12224879', 'Interactive Dynamic Video', 'http://www.interactivedynamicvideo.com/', '386', '52', 'ne0phyte', '8/4/2016 11:52']\n"
     ]
    }
   ],
   "source": [
    "from csv import reader\n",
    "hn = list(reader(open(\"hacker_news.csv\")))\n",
    "headers = hn[1]\n",
    "hn = hn[1:]\n",
    "print(hn[:5])\n",
    "print(\"\\n\")\n",
    "print(headers)"
   ]
  },
  {
   "cell_type": "markdown",
   "metadata": {},
   "source": [
    "\n",
    "<p>Next, I filter post titles that begins with the keywords for this analysis - <code>Ask HN</code> and <code>Show HN</code>. These will be in separate lists to make further analysis easier.</p>\n"
   ]
  },
  {
   "cell_type": "code",
   "execution_count": 4,
   "metadata": {},
   "outputs": [
    {
     "name": "stdout",
     "output_type": "stream",
     "text": [
      "1744\n",
      "1162\n",
      "17194\n"
     ]
    }
   ],
   "source": [
    "ask_posts = []\n",
    "show_posts = []\n",
    "other_posts = []\n",
    "\n",
    "for i in hn:\n",
    "    title = i[1]\n",
    "    if title.lower().startswith(\"ask hn\"):\n",
    "        ask_posts.append(i)\n",
    "    elif title.lower().startswith(\"show hn\"):\n",
    "        show_posts.append(i)\n",
    "    else:\n",
    "        other_posts.append(i)\n",
    "        \n",
    "print(len(ask_posts))\n",
    "print(len(show_posts))\n",
    "print(len(other_posts))"
   ]
  },
  {
   "cell_type": "markdown",
   "metadata": {},
   "source": [
    "\n",
    "<p>Next, I make an attempt to find out which of the 2 key post categories receive more comments</p>\n"
   ]
  },
  {
   "cell_type": "code",
   "execution_count": 5,
   "metadata": {},
   "outputs": [
    {
     "name": "stdout",
     "output_type": "stream",
     "text": [
      "The average number of comments on ask posts is 14.038417431192661\n"
     ]
    }
   ],
   "source": [
    "# find out how many comments ask posts receive on the average\n",
    "total_ask_comments = 0\n",
    "\n",
    "for i in ask_posts:\n",
    "    num_comments = int(i[4])\n",
    "    total_ask_comments += num_comments\n",
    "    \n",
    "avg_ask_comments = total_ask_comments / len(ask_posts)\n",
    "print(\"The average number of comments on ask posts is {}\".format(avg_ask_comments))"
   ]
  },
  {
   "cell_type": "code",
   "execution_count": 6,
   "metadata": {},
   "outputs": [
    {
     "name": "stdout",
     "output_type": "stream",
     "text": [
      "The average number of comments on show posts is 10.31669535283993\n"
     ]
    }
   ],
   "source": [
    "# find out how many comments show posts receive on the average\n",
    "total_show_comments = 0\n",
    "\n",
    "for i in show_posts:\n",
    "    num_comments = int(i[4])\n",
    "    total_show_comments += num_comments\n",
    "    \n",
    "avg_show_comments = total_show_comments / len(show_posts)\n",
    "print(\"The average number of comments on show posts is {}\".format(avg_show_comments))"
   ]
  },
  {
   "cell_type": "code",
   "execution_count": 7,
   "metadata": {},
   "outputs": [
    {
     "data": {
      "text/plain": [
       "True"
      ]
     },
     "execution_count": 7,
     "metadata": {},
     "output_type": "execute_result"
    }
   ],
   "source": [
    "# find out which of these posts receive more average comments\n",
    "avg_ask_comments > avg_show_comments"
   ]
  },
  {
   "cell_type": "markdown",
   "metadata": {},
   "source": [
    "\n",
    "<p>Clearly, ask posts receive more comments than show posts. Therefore, I'd focus the remainder of this analysis on ask posts. Next, I find out how many ask posts are created in each hour of the day along with the number of comments recieved.</p>\n"
   ]
  },
  {
   "cell_type": "code",
   "execution_count": 8,
   "metadata": {},
   "outputs": [
    {
     "name": "stdout",
     "output_type": "stream",
     "text": [
      "[['8/16/2016 9:55', 6], ['11/22/2015 13:43', 29], ['5/2/2016 10:14', 1]]\n",
      "\n",
      "\n",
      "{'09': 45, '13': 85, '10': 59, '14': 107, '16': 108, '23': 68, '12': 73, '17': 100, '15': 116, '21': 109, '20': 80, '02': 58, '18': 109, '03': 54, '05': 46, '19': 110, '01': 60, '22': 71, '08': 48, '04': 47, '00': 55, '06': 44, '07': 34, '11': 58}\n",
      "\n",
      "\n",
      "{'09': 251, '13': 1253, '10': 793, '14': 1416, '16': 1814, '23': 543, '12': 687, '17': 1146, '15': 4477, '21': 1745, '20': 1722, '02': 1381, '18': 1439, '03': 421, '05': 464, '19': 1188, '01': 683, '22': 479, '08': 492, '04': 337, '00': 447, '06': 397, '07': 267, '11': 641}\n"
     ]
    }
   ],
   "source": [
    "# importing the datetime module with an alias\n",
    "import datetime as dt\n",
    "\n",
    "# list of list of the time of creation and number of comments per ask posts \n",
    "result_list = []       \n",
    "\n",
    "for i in ask_posts:\n",
    "    created_at = i[-1]\n",
    "    num_comments = int(i[-3])\n",
    "    result_list.append([created_at, num_comments])\n",
    "\n",
    "print(result_list[:3])\n",
    "print(\"\\n\")\n",
    "\n",
    "counts_by_hour = {}\n",
    "comments_by_hour = {}\n",
    "\n",
    "for i in result_list:\n",
    "    comment = int(i[1])\n",
    "    a = dt.datetime.strptime(i[0], \"%m/%d/%Y %H:%M\")\n",
    "    hour = a.strftime(\"%H\")\n",
    "    if hour not in counts_by_hour:\n",
    "        counts_by_hour[hour] = 1\n",
    "        comments_by_hour[hour] = comment\n",
    "    else:\n",
    "        counts_by_hour[hour] += 1\n",
    "        comments_by_hour[hour] += comment\n",
    "    \n",
    "print(counts_by_hour)\n",
    "print(\"\\n\")\n",
    "print(comments_by_hour)"
   ]
  },
  {
   "cell_type": "markdown",
   "metadata": {},
   "source": [
    "\n",
    "<p>The result is 2 dictionaries showing the number of ask posts created and the number of comments per hour. Since I aim to make a generalized deduction, I need to know the average comments made per hour.</p>\n"
   ]
  },
  {
   "cell_type": "code",
   "execution_count": 9,
   "metadata": {},
   "outputs": [
    {
     "name": "stdout",
     "output_type": "stream",
     "text": [
      "[['09', 5.5777777777777775], ['13', 14.741176470588234], ['10', 13.440677966101696], ['14', 13.233644859813085], ['16', 16.796296296296298], ['23', 7.985294117647059], ['12', 9.41095890410959], ['17', 11.46], ['15', 38.5948275862069], ['21', 16.009174311926607], ['20', 21.525], ['02', 23.810344827586206], ['18', 13.20183486238532], ['03', 7.796296296296297], ['05', 10.08695652173913], ['19', 10.8], ['01', 11.383333333333333], ['22', 6.746478873239437], ['08', 10.25], ['04', 7.170212765957447], ['00', 8.127272727272727], ['06', 9.022727272727273], ['07', 7.852941176470588], ['11', 11.051724137931034]]\n"
     ]
    }
   ],
   "source": [
    "# find the average number of comments per hour\n",
    "\n",
    "avg_by_hour = []\n",
    "\n",
    "for i in comments_by_hour:\n",
    "    for j in counts_by_hour:\n",
    "        if j == i:\n",
    "            avg_by_hour.append([i, comments_by_hour[i]/counts_by_hour[j]])\n",
    "      \n",
    "           \n",
    "print(avg_by_hour)"
   ]
  },
  {
   "cell_type": "code",
   "execution_count": 10,
   "metadata": {},
   "outputs": [
    {
     "name": "stdout",
     "output_type": "stream",
     "text": [
      "[[38.5948275862069, '15'], [23.810344827586206, '02'], [21.525, '20'], [16.796296296296298, '16'], [16.009174311926607, '21']]\n"
     ]
    }
   ],
   "source": [
    "# swap the order of this list for readability and further analysis\n",
    "swap_avg_by_hour = []   \n",
    "\n",
    "for i in avg_by_hour:\n",
    "    swap_avg_by_hour.append([i[1], i[0]])\n",
    "\n",
    "# sort this list in descending order    \n",
    "sorted_swap = sorted(swap_avg_by_hour, reverse = True) \n",
    "\n",
    "print(sorted_swap[:5])  "
   ]
  },
  {
   "cell_type": "code",
   "execution_count": 11,
   "metadata": {},
   "outputs": [
    {
     "name": "stdout",
     "output_type": "stream",
     "text": [
      "Top 5 Hours for Ask Posts Comments\n",
      "15:00 38.59 average comments per post\n",
      "2:00 23.81 average comments per post\n",
      "20:00 21.52 average comments per post\n",
      "16:00 16.80 average comments per post\n",
      "21:00 16.01 average comments per post\n"
     ]
    }
   ],
   "source": [
    "print(\"Top 5 Hours for Ask Posts Comments\")\n",
    "for i in sorted_swap[:5]:\n",
    "    a = dt.datetime.strptime(i[1], \"%H\")\n",
    "    b = int(a.strftime(\"%H\"))\n",
    "    print(\"{}:00 {:.2f} average comments per post\".format(b, i[0]))"
   ]
  },
  {
   "cell_type": "markdown",
   "metadata": {},
   "source": [
    "\n",
    "<p>We already saw that on average, <code>Ask HN</code> posts had more comments than <code>Show HN</code> posts. We further see that these <code>Ask HN</code> posts have the highest number of comments at 15:00 with about 38 comments. The time with the next highest number of comments on average is 2::00.  From the dataset <a href=\"https://www.kaggle.com/hacker-news/hacker-news-posts\">documentation</a>, the timezone used is Eastern Time in the US.</p>\n",
    "<h1 id=\"Conclusion\">Conclusion<a class=\"anchor-link\" href=\"#Conclusion\">¶</a></h1><p>In this mini project, I analyzed ask posts and show posts on Hacker News to find out which of them received more comments -  the ask posts. In addition, I also found out the top 5 times of the day that attracts the most traffic on average for these ask posts. Based on the analysis, ask posts should be created between 3:00 pm EST - 3:59 pm EST.</p>\n",
    "<p>However,I did not carry out any form of analysis on posts (whether ask or show) without comments. Consequently, it is more accurate to say that of the posts that received comments, ask posts received more comments on average and ask posts created between 15:00 and 16:00 (3:00 pm est - 4:00 pm est) received the most comments on average.</p>\n"
   ]
  }
 ],
 "metadata": {
  "kernelspec": {
   "display_name": "Python 3",
   "language": "python",
   "name": "python3"
  },
  "language_info": {
   "codemirror_mode": {
    "name": "ipython",
    "version": 3
   },
   "file_extension": ".py",
   "mimetype": "text/x-python",
   "name": "python",
   "nbconvert_exporter": "python",
   "pygments_lexer": "ipython3",
   "version": "3.7.3"
  }
 },
 "nbformat": 4,
 "nbformat_minor": 1
}
